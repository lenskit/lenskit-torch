{
 "cells": [
  {
   "cell_type": "markdown",
   "id": "2dccead8-80f7-467c-9df6-f5b030fb5331",
   "metadata": {},
   "source": [
    "# Explicit Feedback Demo\n",
    "\n",
    "This notebook demonstrates and measures explicit-feedback performance for the Torch-based algorithms."
   ]
  },
  {
   "cell_type": "markdown",
   "id": "7cca61f8-cf8e-492a-b0c9-7a9f0a138bbd",
   "metadata": {},
   "source": [
    "## Setup\n",
    "\n",
    "Load modules:"
   ]
  },
  {
   "cell_type": "code",
   "execution_count": 1,
   "id": "b2dc5e6a-4f18-4c1c-a086-cf3d80183444",
   "metadata": {},
   "outputs": [],
   "source": [
    "import sys\n",
    "import logging\n",
    "logging.basicConfig(stream=sys.stderr, level=logging.INFO)"
   ]
  },
  {
   "cell_type": "code",
   "execution_count": 2,
   "id": "f9c7ae8a-19cd-438f-9061-72b591c46917",
   "metadata": {},
   "outputs": [],
   "source": [
    "import pandas as pd\n",
    "import numpy as np"
   ]
  },
  {
   "cell_type": "code",
   "execution_count": 3,
   "id": "36f4eeda-51f1-49c8-9d66-f61e4e0968f6",
   "metadata": {},
   "outputs": [],
   "source": [
    "from lenskit import batch\n",
    "from lenskit.metrics.predict import rmse\n",
    "from lenskit.algorithms.bias import Bias\n",
    "from lenskit.algorithms.als import BiasedMF\n",
    "from lktorch.biasedmf import TorchBiasedMF"
   ]
  },
  {
   "cell_type": "code",
   "execution_count": 4,
   "id": "ff5aa40f-99ed-40c8-af22-f9c6f7c794c0",
   "metadata": {},
   "outputs": [],
   "source": [
    "from tqdm.notebook import tqdm\n",
    "tqdm.pandas()"
   ]
  },
  {
   "cell_type": "markdown",
   "id": "afa8404c-28d3-491e-89cf-1317406fce34",
   "metadata": {},
   "source": [
    "## MovieLens 100K"
   ]
  },
  {
   "cell_type": "code",
   "execution_count": 5,
   "id": "36b227a5-798c-4ed1-9cd1-f6263042e616",
   "metadata": {},
   "outputs": [],
   "source": [
    "train_100k = pd.read_parquet('data/ml-100k/train.parquet')\n",
    "test_100k = pd.read_parquet('data/ml-100k/test.parquet')"
   ]
  },
  {
   "cell_type": "markdown",
   "id": "a4e22717-85bb-4268-bb95-ed7e64e2f687",
   "metadata": {},
   "source": [
    "### Bias Model"
   ]
  },
  {
   "cell_type": "code",
   "execution_count": 6,
   "id": "bdf20488-43c5-4a66-9f2e-94da4d42462d",
   "metadata": {},
   "outputs": [
    {
     "name": "stderr",
     "output_type": "stream",
     "text": [
      "INFO:lenskit.algorithms.bias:building bias model for 99500 ratings\n",
      "INFO:lenskit.algorithms.bias:global mean: 3.529\n",
      "INFO:lenskit.algorithms.bias:computed means for 1682 items\n",
      "INFO:lenskit.algorithms.bias:computed means for 943 users\n"
     ]
    },
    {
     "data": {
      "text/plain": [
       "<lenskit.algorithms.bias.Bias at 0x1c237ef74f0>"
      ]
     },
     "execution_count": 6,
     "metadata": {},
     "output_type": "execute_result"
    }
   ],
   "source": [
    "bias = Bias()\n",
    "bias.fit(train_100k)"
   ]
  },
  {
   "cell_type": "code",
   "execution_count": 7,
   "id": "e46f6535-c739-4c73-ab44-ec842d076dc2",
   "metadata": {},
   "outputs": [
    {
     "name": "stderr",
     "output_type": "stream",
     "text": [
      "INFO:binpickle.write:pickled 1035 bytes with 6 buffers\n",
      "INFO:lenskit.util.parallel:setting up ProcessPoolExecutor w/ 4 workers\n",
      "INFO:lenskit.batch._predict:generating 500 predictions for 100 users (setup took  8ms)\n",
      "INFO:lenskit.batch._predict:generated 500 predictions for 100 users in 3.06s\n"
     ]
    },
    {
     "data": {
      "text/html": [
       "<div>\n",
       "<style scoped>\n",
       "    .dataframe tbody tr th:only-of-type {\n",
       "        vertical-align: middle;\n",
       "    }\n",
       "\n",
       "    .dataframe tbody tr th {\n",
       "        vertical-align: top;\n",
       "    }\n",
       "\n",
       "    .dataframe thead th {\n",
       "        text-align: right;\n",
       "    }\n",
       "</style>\n",
       "<table border=\"1\" class=\"dataframe\">\n",
       "  <thead>\n",
       "    <tr style=\"text-align: right;\">\n",
       "      <th></th>\n",
       "      <th>user</th>\n",
       "      <th>item</th>\n",
       "      <th>rating</th>\n",
       "      <th>timestamp</th>\n",
       "      <th>prediction</th>\n",
       "    </tr>\n",
       "  </thead>\n",
       "  <tbody>\n",
       "    <tr>\n",
       "      <th>0</th>\n",
       "      <td>2</td>\n",
       "      <td>255</td>\n",
       "      <td>4.0</td>\n",
       "      <td>888551341</td>\n",
       "      <td>3.516415</td>\n",
       "    </tr>\n",
       "    <tr>\n",
       "      <th>1</th>\n",
       "      <td>2</td>\n",
       "      <td>251</td>\n",
       "      <td>5.0</td>\n",
       "      <td>888552084</td>\n",
       "      <td>4.399913</td>\n",
       "    </tr>\n",
       "    <tr>\n",
       "      <th>2</th>\n",
       "      <td>2</td>\n",
       "      <td>312</td>\n",
       "      <td>3.0</td>\n",
       "      <td>888550631</td>\n",
       "      <td>3.320026</td>\n",
       "    </tr>\n",
       "    <tr>\n",
       "      <th>3</th>\n",
       "      <td>2</td>\n",
       "      <td>290</td>\n",
       "      <td>3.0</td>\n",
       "      <td>888551441</td>\n",
       "      <td>3.271258</td>\n",
       "    </tr>\n",
       "    <tr>\n",
       "      <th>4</th>\n",
       "      <td>2</td>\n",
       "      <td>315</td>\n",
       "      <td>1.0</td>\n",
       "      <td>888550774</td>\n",
       "      <td>4.288380</td>\n",
       "    </tr>\n",
       "    <tr>\n",
       "      <th>...</th>\n",
       "      <td>...</td>\n",
       "      <td>...</td>\n",
       "      <td>...</td>\n",
       "      <td>...</td>\n",
       "      <td>...</td>\n",
       "    </tr>\n",
       "    <tr>\n",
       "      <th>495</th>\n",
       "      <td>913</td>\n",
       "      <td>143</td>\n",
       "      <td>5.0</td>\n",
       "      <td>881725761</td>\n",
       "      <td>3.435030</td>\n",
       "    </tr>\n",
       "    <tr>\n",
       "      <th>496</th>\n",
       "      <td>913</td>\n",
       "      <td>95</td>\n",
       "      <td>4.0</td>\n",
       "      <td>880826766</td>\n",
       "      <td>3.469793</td>\n",
       "    </tr>\n",
       "    <tr>\n",
       "      <th>497</th>\n",
       "      <td>913</td>\n",
       "      <td>588</td>\n",
       "      <td>3.0</td>\n",
       "      <td>881449256</td>\n",
       "      <td>3.477411</td>\n",
       "    </tr>\n",
       "    <tr>\n",
       "      <th>498</th>\n",
       "      <td>913</td>\n",
       "      <td>185</td>\n",
       "      <td>4.0</td>\n",
       "      <td>881367173</td>\n",
       "      <td>3.764182</td>\n",
       "    </tr>\n",
       "    <tr>\n",
       "      <th>499</th>\n",
       "      <td>913</td>\n",
       "      <td>186</td>\n",
       "      <td>3.0</td>\n",
       "      <td>880946006</td>\n",
       "      <td>3.503341</td>\n",
       "    </tr>\n",
       "  </tbody>\n",
       "</table>\n",
       "<p>500 rows × 5 columns</p>\n",
       "</div>"
      ],
      "text/plain": [
       "     user  item  rating  timestamp  prediction\n",
       "0       2   255     4.0  888551341    3.516415\n",
       "1       2   251     5.0  888552084    4.399913\n",
       "2       2   312     3.0  888550631    3.320026\n",
       "3       2   290     3.0  888551441    3.271258\n",
       "4       2   315     1.0  888550774    4.288380\n",
       "..    ...   ...     ...        ...         ...\n",
       "495   913   143     5.0  881725761    3.435030\n",
       "496   913    95     4.0  880826766    3.469793\n",
       "497   913   588     3.0  881449256    3.477411\n",
       "498   913   185     4.0  881367173    3.764182\n",
       "499   913   186     3.0  880946006    3.503341\n",
       "\n",
       "[500 rows x 5 columns]"
      ]
     },
     "execution_count": 7,
     "metadata": {},
     "output_type": "execute_result"
    }
   ],
   "source": [
    "bias_preds = batch.predict(bias, test_100k)\n",
    "bias_preds"
   ]
  },
  {
   "cell_type": "code",
   "execution_count": 8,
   "id": "34e7c456-c70f-4bc9-a7cd-7da84b920990",
   "metadata": {},
   "outputs": [
    {
     "data": {
      "text/plain": [
       "1.0516887"
      ]
     },
     "execution_count": 8,
     "metadata": {},
     "output_type": "execute_result"
    }
   ],
   "source": [
    "rmse(bias_preds['prediction'], bias_preds['rating'])"
   ]
  },
  {
   "cell_type": "markdown",
   "id": "4eff6d11-ac0d-4d8a-93aa-38a610401759",
   "metadata": {},
   "source": [
    "### ALSModel"
   ]
  },
  {
   "cell_type": "code",
   "execution_count": 9,
   "id": "8f9a1b3f-4221-4bf1-b149-5c6069a631a9",
   "metadata": {},
   "outputs": [
    {
     "name": "stderr",
     "output_type": "stream",
     "text": [
      "INFO:lenskit.util.debug:numba threading layer: tbb\n",
      "WARNING:lenskit.util.debug:BLAS using multiple threads - can cause oversubscription\n",
      "WARNING:lenskit.util.debug:found 1 potential runtime problems - see https://boi.st/lkpy-perf\n",
      "INFO:lenskit.algorithms.als:[ 0ms] fitting bias model\n",
      "INFO:lenskit.algorithms.bias:building bias model for 99500 ratings\n",
      "INFO:lenskit.algorithms.bias:global mean: 3.529\n",
      "INFO:lenskit.algorithms.bias:computed means for 1682 items\n",
      "INFO:lenskit.algorithms.bias:computed means for 943 users\n",
      "INFO:lenskit.algorithms.als:[ 23ms] normalizing ratings\n",
      "INFO:lenskit.algorithms.als:[1.10s] training biased MF model with ALS for 25 features\n",
      "INFO:lenskit.algorithms.als:[4.13s] finished epoch 0 (|ΔP|=40.418, |ΔQ|=48.175)\n",
      "INFO:lenskit.algorithms.als:[4.13s] finished epoch 1 (|ΔP|=15.190, |ΔQ|=21.709)\n",
      "INFO:lenskit.algorithms.als:[4.14s] finished epoch 2 (|ΔP|=9.746, |ΔQ|=12.388)\n",
      "INFO:lenskit.algorithms.als:[4.14s] finished epoch 3 (|ΔP|=6.599, |ΔQ|=8.389)\n",
      "INFO:lenskit.algorithms.als:[4.15s] finished epoch 4 (|ΔP|=4.832, |ΔQ|=6.181)\n",
      "INFO:lenskit.algorithms.als:[4.16s] finished epoch 5 (|ΔP|=3.747, |ΔQ|=4.759)\n",
      "INFO:lenskit.algorithms.als:[4.16s] finished epoch 6 (|ΔP|=3.040, |ΔQ|=3.819)\n",
      "INFO:lenskit.algorithms.als:[4.17s] finished epoch 7 (|ΔP|=2.544, |ΔQ|=3.168)\n",
      "INFO:lenskit.algorithms.als:[4.18s] finished epoch 8 (|ΔP|=2.170, |ΔQ|=2.685)\n",
      "INFO:lenskit.algorithms.als:[4.18s] finished epoch 9 (|ΔP|=1.876, |ΔQ|=2.310)\n",
      "INFO:lenskit.algorithms.als:[4.19s] finished epoch 10 (|ΔP|=1.641, |ΔQ|=2.012)\n",
      "INFO:lenskit.algorithms.als:[4.19s] finished epoch 11 (|ΔP|=1.451, |ΔQ|=1.775)\n",
      "INFO:lenskit.algorithms.als:[4.20s] finished epoch 12 (|ΔP|=1.295, |ΔQ|=1.584)\n",
      "INFO:lenskit.algorithms.als:[4.21s] finished epoch 13 (|ΔP|=1.165, |ΔQ|=1.427)\n",
      "INFO:lenskit.algorithms.als:[4.21s] finished epoch 14 (|ΔP|=1.054, |ΔQ|=1.295)\n",
      "INFO:lenskit.algorithms.als:[4.22s] finished epoch 15 (|ΔP|=0.958, |ΔQ|=1.181)\n",
      "INFO:lenskit.algorithms.als:[4.22s] finished epoch 16 (|ΔP|=0.875, |ΔQ|=1.080)\n",
      "INFO:lenskit.algorithms.als:[4.23s] finished epoch 17 (|ΔP|=0.802, |ΔQ|=0.991)\n",
      "INFO:lenskit.algorithms.als:[4.23s] finished epoch 18 (|ΔP|=0.738, |ΔQ|=0.912)\n",
      "INFO:lenskit.algorithms.als:[4.24s] finished epoch 19 (|ΔP|=0.682, |ΔQ|=0.841)\n",
      "INFO:lenskit.algorithms.als:trained model in 4.24s (|P|=36.726515, |Q|=47.753976)\n"
     ]
    },
    {
     "data": {
      "text/plain": [
       "<lenskit.algorithms.als.BiasedMF at 0x1c237fd3280>"
      ]
     },
     "execution_count": 9,
     "metadata": {},
     "output_type": "execute_result"
    }
   ],
   "source": [
    "als = BiasedMF(25)\n",
    "als.fit(train_100k)"
   ]
  },
  {
   "cell_type": "code",
   "execution_count": 10,
   "id": "82eaf10a-9259-4bef-9a8c-fc9c8da326be",
   "metadata": {},
   "outputs": [
    {
     "name": "stderr",
     "output_type": "stream",
     "text": [
      "INFO:binpickle.write:pickled 1592 bytes with 10 buffers\n",
      "INFO:lenskit.util.parallel:setting up ProcessPoolExecutor w/ 4 workers\n",
      "INFO:lenskit.batch._predict:generating 500 predictions for 100 users (setup took  5ms)\n",
      "INFO:lenskit.batch._predict:generated 500 predictions for 100 users in 3.99s\n"
     ]
    },
    {
     "data": {
      "text/html": [
       "<div>\n",
       "<style scoped>\n",
       "    .dataframe tbody tr th:only-of-type {\n",
       "        vertical-align: middle;\n",
       "    }\n",
       "\n",
       "    .dataframe tbody tr th {\n",
       "        vertical-align: top;\n",
       "    }\n",
       "\n",
       "    .dataframe thead th {\n",
       "        text-align: right;\n",
       "    }\n",
       "</style>\n",
       "<table border=\"1\" class=\"dataframe\">\n",
       "  <thead>\n",
       "    <tr style=\"text-align: right;\">\n",
       "      <th></th>\n",
       "      <th>user</th>\n",
       "      <th>item</th>\n",
       "      <th>rating</th>\n",
       "      <th>timestamp</th>\n",
       "      <th>prediction</th>\n",
       "    </tr>\n",
       "  </thead>\n",
       "  <tbody>\n",
       "    <tr>\n",
       "      <th>0</th>\n",
       "      <td>2</td>\n",
       "      <td>255</td>\n",
       "      <td>4.0</td>\n",
       "      <td>888551341</td>\n",
       "      <td>3.077152</td>\n",
       "    </tr>\n",
       "    <tr>\n",
       "      <th>1</th>\n",
       "      <td>2</td>\n",
       "      <td>251</td>\n",
       "      <td>5.0</td>\n",
       "      <td>888552084</td>\n",
       "      <td>4.552990</td>\n",
       "    </tr>\n",
       "    <tr>\n",
       "      <th>2</th>\n",
       "      <td>2</td>\n",
       "      <td>312</td>\n",
       "      <td>3.0</td>\n",
       "      <td>888550631</td>\n",
       "      <td>3.370210</td>\n",
       "    </tr>\n",
       "    <tr>\n",
       "      <th>3</th>\n",
       "      <td>2</td>\n",
       "      <td>290</td>\n",
       "      <td>3.0</td>\n",
       "      <td>888551441</td>\n",
       "      <td>3.197553</td>\n",
       "    </tr>\n",
       "    <tr>\n",
       "      <th>4</th>\n",
       "      <td>2</td>\n",
       "      <td>315</td>\n",
       "      <td>1.0</td>\n",
       "      <td>888550774</td>\n",
       "      <td>4.247648</td>\n",
       "    </tr>\n",
       "    <tr>\n",
       "      <th>...</th>\n",
       "      <td>...</td>\n",
       "      <td>...</td>\n",
       "      <td>...</td>\n",
       "      <td>...</td>\n",
       "      <td>...</td>\n",
       "    </tr>\n",
       "    <tr>\n",
       "      <th>495</th>\n",
       "      <td>913</td>\n",
       "      <td>143</td>\n",
       "      <td>5.0</td>\n",
       "      <td>881725761</td>\n",
       "      <td>3.802119</td>\n",
       "    </tr>\n",
       "    <tr>\n",
       "      <th>496</th>\n",
       "      <td>913</td>\n",
       "      <td>95</td>\n",
       "      <td>4.0</td>\n",
       "      <td>880826766</td>\n",
       "      <td>3.363786</td>\n",
       "    </tr>\n",
       "    <tr>\n",
       "      <th>497</th>\n",
       "      <td>913</td>\n",
       "      <td>588</td>\n",
       "      <td>3.0</td>\n",
       "      <td>881449256</td>\n",
       "      <td>3.305021</td>\n",
       "    </tr>\n",
       "    <tr>\n",
       "      <th>498</th>\n",
       "      <td>913</td>\n",
       "      <td>185</td>\n",
       "      <td>4.0</td>\n",
       "      <td>881367173</td>\n",
       "      <td>3.822973</td>\n",
       "    </tr>\n",
       "    <tr>\n",
       "      <th>499</th>\n",
       "      <td>913</td>\n",
       "      <td>186</td>\n",
       "      <td>3.0</td>\n",
       "      <td>880946006</td>\n",
       "      <td>3.460263</td>\n",
       "    </tr>\n",
       "  </tbody>\n",
       "</table>\n",
       "<p>500 rows × 5 columns</p>\n",
       "</div>"
      ],
      "text/plain": [
       "     user  item  rating  timestamp  prediction\n",
       "0       2   255     4.0  888551341    3.077152\n",
       "1       2   251     5.0  888552084    4.552990\n",
       "2       2   312     3.0  888550631    3.370210\n",
       "3       2   290     3.0  888551441    3.197553\n",
       "4       2   315     1.0  888550774    4.247648\n",
       "..    ...   ...     ...        ...         ...\n",
       "495   913   143     5.0  881725761    3.802119\n",
       "496   913    95     4.0  880826766    3.363786\n",
       "497   913   588     3.0  881449256    3.305021\n",
       "498   913   185     4.0  881367173    3.822973\n",
       "499   913   186     3.0  880946006    3.460263\n",
       "\n",
       "[500 rows x 5 columns]"
      ]
     },
     "execution_count": 10,
     "metadata": {},
     "output_type": "execute_result"
    }
   ],
   "source": [
    "als_preds = batch.predict(als, test_100k)\n",
    "als_preds"
   ]
  },
  {
   "cell_type": "code",
   "execution_count": 11,
   "id": "f68d76bc-5b7a-4a2c-8ac0-92a58c91ac88",
   "metadata": {},
   "outputs": [
    {
     "data": {
      "text/plain": [
       "0.9992593300711662"
      ]
     },
     "execution_count": 11,
     "metadata": {},
     "output_type": "execute_result"
    }
   ],
   "source": [
    "rmse(als_preds['prediction'], als_preds['rating'])"
   ]
  },
  {
   "cell_type": "markdown",
   "id": "9b98a97f-3ab9-4e53-bc7e-b1d35c0e3dd2",
   "metadata": {},
   "source": [
    "### Biased MF"
   ]
  },
  {
   "cell_type": "code",
   "execution_count": 12,
   "id": "a0017d29-3191-4ee0-806d-7dc2ca3950b2",
   "metadata": {},
   "outputs": [
    {
     "name": "stderr",
     "output_type": "stream",
     "text": [
      "INFO:lktorch.biasedmf:[ 0ms] preparing input data set\n",
      "INFO:lktorch.biasedmf:preparing to train on cuda\n"
     ]
    },
    {
     "data": {
      "application/vnd.jupyter.widget-view+json": {
       "model_id": "",
       "version_major": 2,
       "version_minor": 0
      },
      "text/plain": [
       "epoch:   0%|          | 0/20 [00:00<?, ?it/s]"
      ]
     },
     "metadata": {},
     "output_type": "display_data"
    },
    {
     "name": "stderr",
     "output_type": "stream",
     "text": [
      "INFO:lktorch.biasedmf:[ 261ms] beginning epoch 1\n",
      "INFO:lktorch.data.batch:re-shuffling 99500 rows\n"
     ]
    },
    {
     "data": {
      "application/vnd.jupyter.widget-view+json": {
       "model_id": "",
       "version_major": 2,
       "version_minor": 0
      },
      "text/plain": [
       "  0%|          | 0/13 [00:00<?, ?it/s]"
      ]
     },
     "metadata": {},
     "output_type": "display_data"
    },
    {
     "name": "stderr",
     "output_type": "stream",
     "text": [
      "INFO:lktorch.biasedmf:[1.85s] epoch 1 finished (|P|=7.681, |Q|=10.294, b=3.528)\n",
      "INFO:lktorch.biasedmf:[1.86s] beginning epoch 2\n",
      "INFO:lktorch.data.batch:re-shuffling 99500 rows\n"
     ]
    },
    {
     "data": {
      "application/vnd.jupyter.widget-view+json": {
       "model_id": "",
       "version_major": 2,
       "version_minor": 0
      },
      "text/plain": [
       "  0%|          | 0/13 [00:00<?, ?it/s]"
      ]
     },
     "metadata": {},
     "output_type": "display_data"
    },
    {
     "name": "stderr",
     "output_type": "stream",
     "text": [
      "INFO:lktorch.biasedmf:[1.96s] epoch 2 finished (|P|=7.740, |Q|=10.370, b=3.525)\n",
      "INFO:lktorch.biasedmf:[1.97s] beginning epoch 3\n",
      "INFO:lktorch.data.batch:re-shuffling 99500 rows\n"
     ]
    },
    {
     "data": {
      "application/vnd.jupyter.widget-view+json": {
       "model_id": "",
       "version_major": 2,
       "version_minor": 0
      },
      "text/plain": [
       "  0%|          | 0/13 [00:00<?, ?it/s]"
      ]
     },
     "metadata": {},
     "output_type": "display_data"
    },
    {
     "name": "stderr",
     "output_type": "stream",
     "text": [
      "INFO:lktorch.biasedmf:[2.05s] epoch 3 finished (|P|=7.862, |Q|=10.515, b=3.524)\n",
      "INFO:lktorch.biasedmf:[2.05s] beginning epoch 4\n",
      "INFO:lktorch.data.batch:re-shuffling 99500 rows\n"
     ]
    },
    {
     "data": {
      "application/vnd.jupyter.widget-view+json": {
       "model_id": "",
       "version_major": 2,
       "version_minor": 0
      },
      "text/plain": [
       "  0%|          | 0/13 [00:00<?, ?it/s]"
      ]
     },
     "metadata": {},
     "output_type": "display_data"
    },
    {
     "name": "stderr",
     "output_type": "stream",
     "text": [
      "INFO:lktorch.biasedmf:[2.17s] epoch 4 finished (|P|=8.042, |Q|=10.727, b=3.523)\n",
      "INFO:lktorch.biasedmf:[2.17s] beginning epoch 5\n",
      "INFO:lktorch.data.batch:re-shuffling 99500 rows\n"
     ]
    },
    {
     "data": {
      "application/vnd.jupyter.widget-view+json": {
       "model_id": "",
       "version_major": 2,
       "version_minor": 0
      },
      "text/plain": [
       "  0%|          | 0/13 [00:00<?, ?it/s]"
      ]
     },
     "metadata": {},
     "output_type": "display_data"
    },
    {
     "name": "stderr",
     "output_type": "stream",
     "text": [
      "INFO:lktorch.biasedmf:[2.27s] epoch 5 finished (|P|=8.276, |Q|=10.999, b=3.521)\n",
      "INFO:lktorch.biasedmf:[2.27s] beginning epoch 6\n",
      "INFO:lktorch.data.batch:re-shuffling 99500 rows\n"
     ]
    },
    {
     "data": {
      "application/vnd.jupyter.widget-view+json": {
       "model_id": "",
       "version_major": 2,
       "version_minor": 0
      },
      "text/plain": [
       "  0%|          | 0/13 [00:00<?, ?it/s]"
      ]
     },
     "metadata": {},
     "output_type": "display_data"
    },
    {
     "name": "stderr",
     "output_type": "stream",
     "text": [
      "INFO:lktorch.biasedmf:[2.37s] epoch 6 finished (|P|=8.566, |Q|=11.335, b=3.518)\n",
      "INFO:lktorch.biasedmf:[2.37s] beginning epoch 7\n",
      "INFO:lktorch.data.batch:re-shuffling 99500 rows\n"
     ]
    },
    {
     "data": {
      "application/vnd.jupyter.widget-view+json": {
       "model_id": "",
       "version_major": 2,
       "version_minor": 0
      },
      "text/plain": [
       "  0%|          | 0/13 [00:00<?, ?it/s]"
      ]
     },
     "metadata": {},
     "output_type": "display_data"
    },
    {
     "name": "stderr",
     "output_type": "stream",
     "text": [
      "INFO:lktorch.biasedmf:[2.45s] epoch 7 finished (|P|=8.918, |Q|=11.743, b=3.518)\n",
      "INFO:lktorch.biasedmf:[2.46s] beginning epoch 8\n",
      "INFO:lktorch.data.batch:re-shuffling 99500 rows\n"
     ]
    },
    {
     "data": {
      "application/vnd.jupyter.widget-view+json": {
       "model_id": "",
       "version_major": 2,
       "version_minor": 0
      },
      "text/plain": [
       "  0%|          | 0/13 [00:00<?, ?it/s]"
      ]
     },
     "metadata": {},
     "output_type": "display_data"
    },
    {
     "name": "stderr",
     "output_type": "stream",
     "text": [
      "INFO:lktorch.biasedmf:[2.54s] epoch 8 finished (|P|=9.333, |Q|=12.222, b=3.517)\n",
      "INFO:lktorch.biasedmf:[2.54s] beginning epoch 9\n",
      "INFO:lktorch.data.batch:re-shuffling 99500 rows\n"
     ]
    },
    {
     "data": {
      "application/vnd.jupyter.widget-view+json": {
       "model_id": "",
       "version_major": 2,
       "version_minor": 0
      },
      "text/plain": [
       "  0%|          | 0/13 [00:00<?, ?it/s]"
      ]
     },
     "metadata": {},
     "output_type": "display_data"
    },
    {
     "name": "stderr",
     "output_type": "stream",
     "text": [
      "INFO:lktorch.biasedmf:[2.64s] epoch 9 finished (|P|=9.810, |Q|=12.774, b=3.513)\n",
      "INFO:lktorch.biasedmf:[2.64s] beginning epoch 10\n",
      "INFO:lktorch.data.batch:re-shuffling 99500 rows\n"
     ]
    },
    {
     "data": {
      "application/vnd.jupyter.widget-view+json": {
       "model_id": "",
       "version_major": 2,
       "version_minor": 0
      },
      "text/plain": [
       "  0%|          | 0/13 [00:00<?, ?it/s]"
      ]
     },
     "metadata": {},
     "output_type": "display_data"
    },
    {
     "name": "stderr",
     "output_type": "stream",
     "text": [
      "INFO:lktorch.biasedmf:[2.74s] epoch 10 finished (|P|=10.357, |Q|=13.408, b=3.513)\n",
      "INFO:lktorch.biasedmf:[2.75s] beginning epoch 11\n",
      "INFO:lktorch.data.batch:re-shuffling 99500 rows\n"
     ]
    },
    {
     "data": {
      "application/vnd.jupyter.widget-view+json": {
       "model_id": "",
       "version_major": 2,
       "version_minor": 0
      },
      "text/plain": [
       "  0%|          | 0/13 [00:00<?, ?it/s]"
      ]
     },
     "metadata": {},
     "output_type": "display_data"
    },
    {
     "name": "stderr",
     "output_type": "stream",
     "text": [
      "INFO:lktorch.biasedmf:[2.84s] epoch 11 finished (|P|=10.974, |Q|=14.121, b=3.510)\n",
      "INFO:lktorch.biasedmf:[2.84s] beginning epoch 12\n",
      "INFO:lktorch.data.batch:re-shuffling 99500 rows\n"
     ]
    },
    {
     "data": {
      "application/vnd.jupyter.widget-view+json": {
       "model_id": "",
       "version_major": 2,
       "version_minor": 0
      },
      "text/plain": [
       "  0%|          | 0/13 [00:00<?, ?it/s]"
      ]
     },
     "metadata": {},
     "output_type": "display_data"
    },
    {
     "name": "stderr",
     "output_type": "stream",
     "text": [
      "INFO:lktorch.biasedmf:[2.96s] epoch 12 finished (|P|=11.662, |Q|=14.911, b=3.506)\n",
      "INFO:lktorch.biasedmf:[2.96s] beginning epoch 13\n",
      "INFO:lktorch.data.batch:re-shuffling 99500 rows\n"
     ]
    },
    {
     "data": {
      "application/vnd.jupyter.widget-view+json": {
       "model_id": "",
       "version_major": 2,
       "version_minor": 0
      },
      "text/plain": [
       "  0%|          | 0/13 [00:00<?, ?it/s]"
      ]
     },
     "metadata": {},
     "output_type": "display_data"
    },
    {
     "name": "stderr",
     "output_type": "stream",
     "text": [
      "INFO:lktorch.biasedmf:[3.07s] epoch 13 finished (|P|=12.414, |Q|=15.776, b=3.501)\n",
      "INFO:lktorch.biasedmf:[3.07s] beginning epoch 14\n",
      "INFO:lktorch.data.batch:re-shuffling 99500 rows\n"
     ]
    },
    {
     "data": {
      "application/vnd.jupyter.widget-view+json": {
       "model_id": "",
       "version_major": 2,
       "version_minor": 0
      },
      "text/plain": [
       "  0%|          | 0/13 [00:00<?, ?it/s]"
      ]
     },
     "metadata": {},
     "output_type": "display_data"
    },
    {
     "name": "stderr",
     "output_type": "stream",
     "text": [
      "INFO:lktorch.biasedmf:[3.16s] epoch 14 finished (|P|=13.229, |Q|=16.708, b=3.498)\n",
      "INFO:lktorch.biasedmf:[3.16s] beginning epoch 15\n",
      "INFO:lktorch.data.batch:re-shuffling 99500 rows\n"
     ]
    },
    {
     "data": {
      "application/vnd.jupyter.widget-view+json": {
       "model_id": "",
       "version_major": 2,
       "version_minor": 0
      },
      "text/plain": [
       "  0%|          | 0/13 [00:00<?, ?it/s]"
      ]
     },
     "metadata": {},
     "output_type": "display_data"
    },
    {
     "name": "stderr",
     "output_type": "stream",
     "text": [
      "INFO:lktorch.biasedmf:[3.26s] epoch 15 finished (|P|=14.091, |Q|=17.697, b=3.496)\n",
      "INFO:lktorch.biasedmf:[3.26s] beginning epoch 16\n",
      "INFO:lktorch.data.batch:re-shuffling 99500 rows\n"
     ]
    },
    {
     "data": {
      "application/vnd.jupyter.widget-view+json": {
       "model_id": "",
       "version_major": 2,
       "version_minor": 0
      },
      "text/plain": [
       "  0%|          | 0/13 [00:00<?, ?it/s]"
      ]
     },
     "metadata": {},
     "output_type": "display_data"
    },
    {
     "name": "stderr",
     "output_type": "stream",
     "text": [
      "INFO:lktorch.biasedmf:[3.34s] epoch 16 finished (|P|=14.995, |Q|=18.725, b=3.493)\n",
      "INFO:lktorch.biasedmf:[3.34s] beginning epoch 17\n",
      "INFO:lktorch.data.batch:re-shuffling 99500 rows\n"
     ]
    },
    {
     "data": {
      "application/vnd.jupyter.widget-view+json": {
       "model_id": "",
       "version_major": 2,
       "version_minor": 0
      },
      "text/plain": [
       "  0%|          | 0/13 [00:00<?, ?it/s]"
      ]
     },
     "metadata": {},
     "output_type": "display_data"
    },
    {
     "name": "stderr",
     "output_type": "stream",
     "text": [
      "INFO:lktorch.biasedmf:[3.44s] epoch 17 finished (|P|=15.924, |Q|=19.786, b=3.487)\n",
      "INFO:lktorch.biasedmf:[3.45s] beginning epoch 18\n",
      "INFO:lktorch.data.batch:re-shuffling 99500 rows\n"
     ]
    },
    {
     "data": {
      "application/vnd.jupyter.widget-view+json": {
       "model_id": "",
       "version_major": 2,
       "version_minor": 0
      },
      "text/plain": [
       "  0%|          | 0/13 [00:00<?, ?it/s]"
      ]
     },
     "metadata": {},
     "output_type": "display_data"
    },
    {
     "name": "stderr",
     "output_type": "stream",
     "text": [
      "INFO:lktorch.biasedmf:[3.56s] epoch 18 finished (|P|=16.866, |Q|=20.862, b=3.479)\n",
      "INFO:lktorch.biasedmf:[3.56s] beginning epoch 19\n",
      "INFO:lktorch.data.batch:re-shuffling 99500 rows\n"
     ]
    },
    {
     "data": {
      "application/vnd.jupyter.widget-view+json": {
       "model_id": "",
       "version_major": 2,
       "version_minor": 0
      },
      "text/plain": [
       "  0%|          | 0/13 [00:00<?, ?it/s]"
      ]
     },
     "metadata": {},
     "output_type": "display_data"
    },
    {
     "name": "stderr",
     "output_type": "stream",
     "text": [
      "INFO:lktorch.biasedmf:[3.66s] epoch 19 finished (|P|=17.811, |Q|=21.943, b=3.474)\n",
      "INFO:lktorch.biasedmf:[3.66s] beginning epoch 20\n",
      "INFO:lktorch.data.batch:re-shuffling 99500 rows\n"
     ]
    },
    {
     "data": {
      "application/vnd.jupyter.widget-view+json": {
       "model_id": "",
       "version_major": 2,
       "version_minor": 0
      },
      "text/plain": [
       "  0%|          | 0/13 [00:00<?, ?it/s]"
      ]
     },
     "metadata": {},
     "output_type": "display_data"
    },
    {
     "name": "stderr",
     "output_type": "stream",
     "text": [
      "INFO:lktorch.biasedmf:[3.77s] epoch 20 finished (|P|=18.745, |Q|=23.013, b=3.468)\n",
      "INFO:lktorch.biasedmf:finished training\n"
     ]
    },
    {
     "data": {
      "text/plain": [
       "<lktorch.biasedmf.TorchBiasedMF at 0x1c239492bc0>"
      ]
     },
     "execution_count": 12,
     "metadata": {},
     "output_type": "execute_result"
    }
   ],
   "source": [
    "tmf = TorchBiasedMF(25, epochs=20)\n",
    "tmf.fit(train_100k)"
   ]
  },
  {
   "cell_type": "code",
   "execution_count": 13,
   "id": "980da4d6-8501-4d66-862d-d2f85db676fb",
   "metadata": {},
   "outputs": [
    {
     "name": "stderr",
     "output_type": "stream",
     "text": [
      "INFO:binpickle.write:pickled 704 bytes with 7 buffers\n",
      "INFO:lenskit.util.parallel:setting up ProcessPoolExecutor w/ 4 workers\n",
      "INFO:lenskit.batch._predict:generating 500 predictions for 100 users (setup took  6ms)\n",
      "INFO:lenskit.batch._predict:generated 500 predictions for 100 users in 3.11s\n"
     ]
    },
    {
     "data": {
      "text/html": [
       "<div>\n",
       "<style scoped>\n",
       "    .dataframe tbody tr th:only-of-type {\n",
       "        vertical-align: middle;\n",
       "    }\n",
       "\n",
       "    .dataframe tbody tr th {\n",
       "        vertical-align: top;\n",
       "    }\n",
       "\n",
       "    .dataframe thead th {\n",
       "        text-align: right;\n",
       "    }\n",
       "</style>\n",
       "<table border=\"1\" class=\"dataframe\">\n",
       "  <thead>\n",
       "    <tr style=\"text-align: right;\">\n",
       "      <th></th>\n",
       "      <th>user</th>\n",
       "      <th>item</th>\n",
       "      <th>rating</th>\n",
       "      <th>timestamp</th>\n",
       "      <th>prediction</th>\n",
       "    </tr>\n",
       "  </thead>\n",
       "  <tbody>\n",
       "    <tr>\n",
       "      <th>0</th>\n",
       "      <td>2</td>\n",
       "      <td>255</td>\n",
       "      <td>4.0</td>\n",
       "      <td>888551341</td>\n",
       "      <td>3.371031</td>\n",
       "    </tr>\n",
       "    <tr>\n",
       "      <th>1</th>\n",
       "      <td>2</td>\n",
       "      <td>251</td>\n",
       "      <td>5.0</td>\n",
       "      <td>888552084</td>\n",
       "      <td>3.894303</td>\n",
       "    </tr>\n",
       "    <tr>\n",
       "      <th>2</th>\n",
       "      <td>2</td>\n",
       "      <td>312</td>\n",
       "      <td>3.0</td>\n",
       "      <td>888550631</td>\n",
       "      <td>3.322607</td>\n",
       "    </tr>\n",
       "    <tr>\n",
       "      <th>3</th>\n",
       "      <td>2</td>\n",
       "      <td>290</td>\n",
       "      <td>3.0</td>\n",
       "      <td>888551441</td>\n",
       "      <td>3.360593</td>\n",
       "    </tr>\n",
       "    <tr>\n",
       "      <th>4</th>\n",
       "      <td>2</td>\n",
       "      <td>315</td>\n",
       "      <td>1.0</td>\n",
       "      <td>888550774</td>\n",
       "      <td>3.826373</td>\n",
       "    </tr>\n",
       "    <tr>\n",
       "      <th>...</th>\n",
       "      <td>...</td>\n",
       "      <td>...</td>\n",
       "      <td>...</td>\n",
       "      <td>...</td>\n",
       "      <td>...</td>\n",
       "    </tr>\n",
       "    <tr>\n",
       "      <th>495</th>\n",
       "      <td>913</td>\n",
       "      <td>143</td>\n",
       "      <td>5.0</td>\n",
       "      <td>881725761</td>\n",
       "      <td>3.419306</td>\n",
       "    </tr>\n",
       "    <tr>\n",
       "      <th>496</th>\n",
       "      <td>913</td>\n",
       "      <td>95</td>\n",
       "      <td>4.0</td>\n",
       "      <td>880826766</td>\n",
       "      <td>3.652405</td>\n",
       "    </tr>\n",
       "    <tr>\n",
       "      <th>497</th>\n",
       "      <td>913</td>\n",
       "      <td>588</td>\n",
       "      <td>3.0</td>\n",
       "      <td>881449256</td>\n",
       "      <td>3.535137</td>\n",
       "    </tr>\n",
       "    <tr>\n",
       "      <th>498</th>\n",
       "      <td>913</td>\n",
       "      <td>185</td>\n",
       "      <td>4.0</td>\n",
       "      <td>881367173</td>\n",
       "      <td>3.905253</td>\n",
       "    </tr>\n",
       "    <tr>\n",
       "      <th>499</th>\n",
       "      <td>913</td>\n",
       "      <td>186</td>\n",
       "      <td>3.0</td>\n",
       "      <td>880946006</td>\n",
       "      <td>3.666574</td>\n",
       "    </tr>\n",
       "  </tbody>\n",
       "</table>\n",
       "<p>500 rows × 5 columns</p>\n",
       "</div>"
      ],
      "text/plain": [
       "     user  item  rating  timestamp  prediction\n",
       "0       2   255     4.0  888551341    3.371031\n",
       "1       2   251     5.0  888552084    3.894303\n",
       "2       2   312     3.0  888550631    3.322607\n",
       "3       2   290     3.0  888551441    3.360593\n",
       "4       2   315     1.0  888550774    3.826373\n",
       "..    ...   ...     ...        ...         ...\n",
       "495   913   143     5.0  881725761    3.419306\n",
       "496   913    95     4.0  880826766    3.652405\n",
       "497   913   588     3.0  881449256    3.535137\n",
       "498   913   185     4.0  881367173    3.905253\n",
       "499   913   186     3.0  880946006    3.666574\n",
       "\n",
       "[500 rows x 5 columns]"
      ]
     },
     "execution_count": 13,
     "metadata": {},
     "output_type": "execute_result"
    }
   ],
   "source": [
    "tmf_preds = batch.predict(tmf, test_100k)\n",
    "tmf_preds"
   ]
  },
  {
   "cell_type": "code",
   "execution_count": 14,
   "id": "107c082a-6e88-4d0e-81fe-c3c86e1d1668",
   "metadata": {},
   "outputs": [
    {
     "data": {
      "text/plain": [
       "1.0534589"
      ]
     },
     "execution_count": 14,
     "metadata": {},
     "output_type": "execute_result"
    }
   ],
   "source": [
    "rmse(tmf_preds['prediction'], tmf_preds['rating'])"
   ]
  },
  {
   "cell_type": "code",
   "execution_count": null,
   "id": "6f3dae8a-8bce-47ac-a395-771c72ea456d",
   "metadata": {},
   "outputs": [],
   "source": []
  }
 ],
 "metadata": {
  "kernelspec": {
   "display_name": "Python 3 (ipykernel)",
   "language": "python",
   "name": "python3"
  },
  "language_info": {
   "codemirror_mode": {
    "name": "ipython",
    "version": 3
   },
   "file_extension": ".py",
   "mimetype": "text/x-python",
   "name": "python",
   "nbconvert_exporter": "python",
   "pygments_lexer": "ipython3",
   "version": "3.10.6"
  }
 },
 "nbformat": 4,
 "nbformat_minor": 5
}
