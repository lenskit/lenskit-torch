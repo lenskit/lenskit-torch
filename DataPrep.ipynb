{
 "cells": [
  {
   "cell_type": "markdown",
   "id": "c1b76f16-7009-428f-9f2f-a7ab5712ad53",
   "metadata": {},
   "source": [
    "# Data Preparation\n",
    "\n",
    "This notebook prepares train/test data for the demo evaluations."
   ]
  },
  {
   "cell_type": "markdown",
   "id": "0624a62c-4aa1-4231-8e80-ac3dd59ee256",
   "metadata": {},
   "source": [
    "## Libraries"
   ]
  },
  {
   "cell_type": "code",
   "execution_count": 1,
   "id": "469e0143-8037-4d84-8df3-50816a867623",
   "metadata": {},
   "outputs": [],
   "source": [
    "from lenskit import crossfold\n",
    "from lenskit.datasets import MovieLens, ML100K"
   ]
  },
  {
   "cell_type": "code",
   "execution_count": 2,
   "id": "aa9f3092-c079-4d81-b093-98f4dc8391a5",
   "metadata": {},
   "outputs": [
    {
     "data": {
      "text/plain": [
       "SeedSequence(\n",
       "    entropy=20220908,\n",
       ")"
      ]
     },
     "execution_count": 2,
     "metadata": {},
     "output_type": "execute_result"
    }
   ],
   "source": [
    "import seedbank\n",
    "seedbank.initialize(20220908)"
   ]
  },
  {
   "cell_type": "markdown",
   "id": "1ed93d93-7239-4216-8182-dc322ad555d1",
   "metadata": {},
   "source": [
    "## Data Setup\n",
    "\n",
    "Let's set up some data sets:"
   ]
  },
  {
   "cell_type": "code",
   "execution_count": 3,
   "id": "70b979f5-9d1d-4cf6-9a38-85a6c89407ee",
   "metadata": {},
   "outputs": [],
   "source": [
    "ml100k = ML100K('data/ml-100k/')\n",
    "ml20m = MovieLens('data/ml-20m/')"
   ]
  },
  {
   "cell_type": "markdown",
   "id": "5ed89e39-4193-4598-9a90-ea2ee7714178",
   "metadata": {},
   "source": [
    "## ML-100K train-test\n",
    "\n",
    "We're going to create a single train-test split for the ML-100K data set."
   ]
  },
  {
   "cell_type": "code",
   "execution_count": 4,
   "id": "b6f06652-5774-465d-be4f-1bff3fdf7328",
   "metadata": {},
   "outputs": [],
   "source": [
    "train, test = next(crossfold.sample_users(ml100k.ratings, 1, 100, crossfold.SampleN(5)))"
   ]
  },
  {
   "cell_type": "code",
   "execution_count": 5,
   "id": "aab62846-d9ed-4f6a-977a-4bd0df0cc5bc",
   "metadata": {},
   "outputs": [],
   "source": [
    "train.to_parquet(ml100k.path / 'train.parquet', index=False, compression='zstd')"
   ]
  },
  {
   "cell_type": "code",
   "execution_count": 6,
   "id": "ef375f3e-ceb8-412f-b0ce-f344b6f487ad",
   "metadata": {},
   "outputs": [],
   "source": [
    "test.to_parquet(ml100k.path / 'test.parquet', index=False, compression='zstd')"
   ]
  },
  {
   "cell_type": "markdown",
   "id": "bacf1016-d82c-4898-b9ce-54de090de65b",
   "metadata": {},
   "source": [
    "## ML-20M train-test\n",
    "\n",
    "And the same for ML-20M."
   ]
  },
  {
   "cell_type": "code",
   "execution_count": 8,
   "id": "8fd46ac4-07d8-497f-83e7-34d960a8db8d",
   "metadata": {},
   "outputs": [],
   "source": [
    "train, test = next(crossfold.sample_users(ml20m.ratings, 1, 10000, crossfold.SampleN(5)))"
   ]
  },
  {
   "cell_type": "code",
   "execution_count": 9,
   "id": "6f9d2655-b91a-4c12-ac2b-b862a9e49e1e",
   "metadata": {},
   "outputs": [],
   "source": [
    "train.to_parquet(ml20m.path / 'train.parquet', index=False, compression='zstd')"
   ]
  },
  {
   "cell_type": "code",
   "execution_count": 10,
   "id": "97873bf1-08ae-4a25-925a-f349830bc2cc",
   "metadata": {},
   "outputs": [],
   "source": [
    "test.to_parquet(ml20m.path / 'test.parquet', index=False, compression='zstd')"
   ]
  },
  {
   "cell_type": "code",
   "execution_count": null,
   "id": "55340b93-e524-43a1-8c56-5e4b6ba23e0c",
   "metadata": {},
   "outputs": [],
   "source": []
  }
 ],
 "metadata": {
  "kernelspec": {
   "display_name": "Python 3 (ipykernel)",
   "language": "python",
   "name": "python3"
  },
  "language_info": {
   "codemirror_mode": {
    "name": "ipython",
    "version": 3
   },
   "file_extension": ".py",
   "mimetype": "text/x-python",
   "name": "python",
   "nbconvert_exporter": "python",
   "pygments_lexer": "ipython3",
   "version": "3.10.6"
  }
 },
 "nbformat": 4,
 "nbformat_minor": 5
}
